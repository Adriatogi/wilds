{
 "cells": [
  {
   "cell_type": "code",
   "execution_count": 1,
   "metadata": {},
   "outputs": [],
   "source": [
    "import os, csv\n",
    "import scipy, numpy as np, pandas as pd, time\n",
    "from scipy import sparse\n",
    "import pyBigWig, prep_metadata_labels\n",
    "\n",
    "# Human chromosome names\n",
    "chr_IDs = ['chr1', 'chr2', 'chr3', 'chr4', 'chr5', 'chr6', 'chr7', 'chr8', 'chr9', 'chr10', 'chr11', 'chr12', 'chr13', 'chr14', 'chr15', 'chr16', 'chr17', 'chr18', 'chr19', 'chr20', 'chr21', 'chr22', 'chrX']\n",
    "_data_dir = '../../examples/data/encode-tfbs_v1.0/'"
   ]
  },
  {
   "cell_type": "markdown",
   "metadata": {},
   "source": [
    "# Prep metadata df and metadata/label array\n",
    "- Metadata df contains 6400bp (window_size/2) prediction windows across the genome. Each gets a 128-bit prediction from the model.\n",
    "- We store the ones that aren't fully unbound, and write these to bigwigs representing genome-wide labels."
   ]
  },
  {
   "cell_type": "code",
   "execution_count": 4,
   "metadata": {
    "collapsed": true,
    "jupyter": {
     "outputs_hidden": true
    }
   },
   "outputs": [
    {
     "name": "stdout",
     "output_type": "stream",
     "text": [
      "83.30138063430786\n",
      "H1-hESC 100.73247504234314\n",
      "HCT116 106.4023334980011\n",
      "HeLa-S3 111.88021206855774\n",
      "HepG2 117.56940197944641\n",
      "K562 126.93423342704773\n",
      "A549 138.21517205238342\n",
      "GM12878 148.77391648292542\n",
      "150.62964010238647\n",
      "213.72714066505432\n"
     ]
    }
   ],
   "source": [
    "prep_metadata_labels.write_label_bigwigs()"
   ]
  },
  {
   "cell_type": "markdown",
   "metadata": {},
   "source": [
    "- Then read from the bigwigs to generate metadata for the bound sites."
   ]
  },
  {
   "cell_type": "code",
   "execution_count": 7,
   "metadata": {},
   "outputs": [
    {
     "name": "stderr",
     "output_type": "stream",
     "text": [
      "<ipython-input-7-fc078c66e9a6>:9: SettingWithCopyWarning: \n",
      "A value is trying to be set on a copy of a slice from a DataFrame.\n",
      "Try using .loc[row_indexer,col_indexer] = value instead\n",
      "\n",
      "See the caveats in the documentation: https://pandas.pydata.org/pandas-docs/stable/user_guide/indexing.html#returning-a-view-versus-a-copy\n",
      "  df['window_start'] = stride*(df['start'] // stride)\n"
     ]
    },
    {
     "name": "stdout",
     "output_type": "stream",
     "text": [
      "A549 63.97912120819092\n",
      "GM12878 103.89278292655945\n",
      "H1-hESC 182.84059262275696\n",
      "HCT116 243.95744681358337\n",
      "HeLa-S3 303.7187397480011\n",
      "HepG2 375.8099205493927\n",
      "K562 456.08897161483765\n",
      "456.0923991203308\n",
      "462.8749210834503\n"
     ]
    }
   ],
   "source": [
    "stride = 6400\n",
    "itime = time.time()\n",
    "mdf_posamb = pd.read_csv(\n",
    "    _sorted_dir, \n",
    "    sep='\\t', header=None, index_col=None, names=['chr', 'start', 'stop', 'y', 'celltype']\n",
    ")\n",
    "celltype_mdta = []\n",
    "celltype_labels = []\n",
    "\n",
    "for ct in _all_celltypes:\n",
    "    ct_labels_bw_path = _data_dir + \"labels/MAX/MAX_{}.bigwig\".format(ct)\n",
    "    df = mdf_posamb[mdf_posamb['celltype'] == ct]\n",
    "    df['window_start'] = stride*(df['start'] // stride)\n",
    "    uniq_windows = np.unique([\"{}:{}\".format(x[0], x[1]) for x in zip(df['chr'], df['window_start'])])\n",
    "    df_construction = []\n",
    "    mdta_labels = []\n",
    "    \n",
    "    bw = pyBigWig.open(ct_labels_bw_path)\n",
    "    num_reps = 0\n",
    "    for u in uniq_windows:\n",
    "        u_chr = u.split(':')[0]\n",
    "        u_start = int(u.split(':')[1])\n",
    "        u_end = u_start + stride\n",
    "        x = np.nan_to_num(bw.values(u_chr, u_start, u_end, numpy=True))\n",
    "        df_construction.append((u_chr, u_start, u_end))\n",
    "        mdta_labels.append(x[np.arange(0, len(x), 50)])\n",
    "        num_reps = num_reps + 1\n",
    "    celltype_mdta_df = pd.DataFrame(df_construction, columns=['chr', 'start', 'stop'])\n",
    "    celltype_mdta_df.insert(len(celltype_mdta_df.columns), 'celltype', ct)\n",
    "    celltype_mdta.append(celltype_mdta_df)\n",
    "    celltype_labels.append(np.stack(mdta_labels))\n",
    "    print(ct, time.time() - itime)\n",
    "    bw.close()\n",
    "    # break\n",
    "print(time.time() - itime)\n",
    "# _metadata_df\n",
    "\n",
    "pd.concat(celltype_mdta).to_csv(\n",
    "    _data_dir + 'labels/MAX/metadata_df.bed', \n",
    "    sep='\\t', header=False, index=False\n",
    ")\n",
    "np.save(_data_dir + 'labels/MAX/metadata_y.npy', np.vstack(celltype_labels))\n",
    "print(time.time() - itime)"
   ]
  },
  {
   "cell_type": "markdown",
   "metadata": {},
   "source": [
    "## Add the all-unbound sites"
   ]
  },
  {
   "cell_type": "code",
   "execution_count": null,
   "metadata": {},
   "outputs": [
    {
     "name": "stdout",
     "output_type": "stream",
     "text": [
      "H1-hESC chr1 31.691891193389893\n",
      "H1-hESC chr10 43.88507628440857\n",
      "H1-hESC chr11 54.64318251609802\n",
      "H1-hESC chr12 63.76666021347046\n",
      "H1-hESC chr13 72.60888147354126\n",
      "H1-hESC chr14 78.53658175468445\n",
      "H1-hESC chr15 84.56542801856995\n",
      "H1-hESC chr16 92.28407764434814\n",
      "H1-hESC chr17 99.54330348968506\n",
      "H1-hESC chr18 106.55353927612305\n",
      "H1-hESC chr19 111.41691207885742\n",
      "H1-hESC chr2 135.3123984336853\n",
      "H1-hESC chr20 141.9123089313507\n",
      "H1-hESC chr21 146.14480471611023\n",
      "H1-hESC chr22 150.8621871471405\n",
      "H1-hESC chr3 169.92432117462158\n",
      "H1-hESC chr4 186.69121527671814\n",
      "H1-hESC chr5 201.6394476890564\n",
      "H1-hESC chr6 215.72684383392334\n",
      "H1-hESC chr7 227.8461310863495\n",
      "H1-hESC chr8 240.26825499534607\n",
      "H1-hESC chr9 250.02118062973022\n",
      "H1-hESC chrX 264.7451572418213\n",
      "H1-hESC 267.0940718650818\n",
      "HCT116 chr1 291.3232545852661\n",
      "HCT116 chr10 304.0528976917267\n",
      "HCT116 chr11 316.63377356529236\n",
      "HCT116 chr12 329.559387922287\n",
      "HCT116 chr13 341.52057003974915\n",
      "HCT116 chr14 350.64817333221436\n",
      "HCT116 chr15 359.71765422821045\n",
      "HCT116 chr16 368.28583669662476\n",
      "HCT116 chr17 376.01680874824524\n",
      "HCT116 chr18 383.57749581336975\n",
      "HCT116 chr19 389.313095331192\n",
      "HCT116 chr2 412.09550070762634\n",
      "HCT116 chr20 417.96392583847046\n",
      "HCT116 chr21 422.00927662849426\n",
      "HCT116 chr22 426.71226167678833\n",
      "HCT116 chr3 442.76402711868286\n",
      "HCT116 chr4 461.9360821247101\n",
      "HCT116 chr5 478.7654387950897\n",
      "HCT116 chr6 495.16735339164734\n",
      "HCT116 chr7 511.82248401641846\n",
      "HCT116 chr8 525.3609001636505\n",
      "HCT116 chr9 538.2295203208923\n",
      "HCT116 chrX 553.2177627086639\n",
      "HCT116 555.6791486740112\n",
      "HeLa-S3 chr1 580.0471041202545\n",
      "HeLa-S3 chr10 594.5216126441956\n",
      "HeLa-S3 chr11 606.1479568481445\n",
      "HeLa-S3 chr12 618.3873989582062\n",
      "HeLa-S3 chr13 628.7777881622314\n",
      "HeLa-S3 chr14 637.718688249588\n",
      "HeLa-S3 chr15 647.1737523078918\n",
      "HeLa-S3 chr16 655.4854662418365\n",
      "HeLa-S3 chr17 662.5001983642578\n",
      "HeLa-S3 chr18 671.1846849918365\n",
      "HeLa-S3 chr19 677.9798579216003\n",
      "HeLa-S3 chr2 700.6258955001831\n",
      "HeLa-S3 chr20 706.6806621551514\n",
      "HeLa-S3 chr21 710.3620142936707\n",
      "HeLa-S3 chr22 714.1444058418274\n",
      "HeLa-S3 chr3 733.4964163303375\n",
      "HeLa-S3 chr4 751.4331798553467\n",
      "HeLa-S3 chr5 768.5986630916595\n"
     ]
    }
   ],
   "source": [
    "stride = 6400\n",
    "itime = time.time()\n",
    "mdf_posamb = pd.read_csv(\n",
    "    _data_dir + 'labels/MAX/MAX_posamb.sorted.bed', \n",
    "    sep='\\t', header=None, index_col=None, names=['chr', 'start', 'stop', 'y', 'celltype']\n",
    ")\n",
    "celltype_mdta = []\n",
    "celltype_labels = []\n",
    "_train_celltypes = ['H1-hESC', 'HCT116', 'HeLa-S3', 'HepG2', 'K562']\n",
    "_val_celltype = ['A549']\n",
    "_test_celltype = ['GM12878']\n",
    "_all_celltypes = _train_celltypes + _val_celltype + _test_celltype\n",
    "\n",
    "for ct in _all_celltypes:\n",
    "    ct_labels_bw_path = _data_dir + \"labels/MAX/MAX_{}.bigwig\".format(ct)\n",
    "    df_construction = []\n",
    "    mdta_labels = []\n",
    "    bw = pyBigWig.open(ct_labels_bw_path)\n",
    "    for chrID in bw.chroms():\n",
    "        chromsize = bw.chroms()[chrID]\n",
    "        # Iterate over windows\n",
    "        for startc in np.arange(0, chromsize, stride):\n",
    "            u_end = startc + stride\n",
    "            if u_end > chromsize:\n",
    "                break\n",
    "            x = np.nan_to_num(bw.values(chrID, startc, u_end, numpy=True))\n",
    "            df_construction.append((chrID, startc, u_end))\n",
    "            mdta_labels.append(x[np.arange(0, len(x), 50)])\n",
    "        print(ct, chrID, time.time() - itime)\n",
    "    celltype_mdta_df = pd.DataFrame(df_construction, columns=['chr', 'start', 'stop'])\n",
    "    celltype_mdta_df.insert(len(celltype_mdta_df.columns), 'celltype', ct)\n",
    "    celltype_mdta.append(celltype_mdta_df)\n",
    "    celltype_labels.append(np.stack(mdta_labels))\n",
    "    print(ct, time.time() - itime)\n",
    "    bw.close()\n",
    "    # break\n",
    "print(time.time() - itime)"
   ]
  },
  {
   "cell_type": "code",
   "execution_count": null,
   "metadata": {},
   "outputs": [],
   "source": [
    "all_metadata_df = pd.concat(celltype_mdta)\n",
    "print(time.time() - itime)\n",
    "all_metadata_df.to_csv(\n",
    "    _data_dir + 'labels/MAX/all_metadata_df.bed', \n",
    "    sep='\\t', header=False, index=False\n",
    ")\n",
    "print(time.time() - itime)\n",
    "np.save(_data_dir + 'labels/MAX/all_metadata_y.npy', np.vstack(celltype_labels))\n",
    "print(time.time() - itime)"
   ]
  },
  {
   "cell_type": "code",
   "execution_count": 16,
   "metadata": {},
   "outputs": [
    {
     "name": "stdout",
     "output_type": "stream",
     "text": [
      "1609.5078670978546\n"
     ]
    }
   ],
   "source": [
    "np.save(_data_dir + 'labels/MAX/all_metadata_y.npy', np.vstack(celltype_labels))\n",
    "print(time.time() - itime)"
   ]
  },
  {
   "cell_type": "code",
   "execution_count": 19,
   "metadata": {},
   "outputs": [
    {
     "data": {
      "text/plain": [
       "(169827, 128)"
      ]
     },
     "execution_count": 19,
     "metadata": {},
     "output_type": "execute_result"
    }
   ],
   "source": [
    "np.vstack(celltype_labels).shape"
   ]
  },
  {
   "cell_type": "code",
   "execution_count": 20,
   "metadata": {},
   "outputs": [
    {
     "data": {
      "text/html": [
       "<div>\n",
       "<style scoped>\n",
       "    .dataframe tbody tr th:only-of-type {\n",
       "        vertical-align: middle;\n",
       "    }\n",
       "\n",
       "    .dataframe tbody tr th {\n",
       "        vertical-align: top;\n",
       "    }\n",
       "\n",
       "    .dataframe thead th {\n",
       "        text-align: right;\n",
       "    }\n",
       "</style>\n",
       "<table border=\"1\" class=\"dataframe\">\n",
       "  <thead>\n",
       "    <tr style=\"text-align: right;\">\n",
       "      <th></th>\n",
       "      <th>chr</th>\n",
       "      <th>start</th>\n",
       "      <th>stop</th>\n",
       "      <th>celltype</th>\n",
       "    </tr>\n",
       "  </thead>\n",
       "  <tbody>\n",
       "    <tr>\n",
       "      <th>0</th>\n",
       "      <td>chrX</td>\n",
       "      <td>0</td>\n",
       "      <td>6400</td>\n",
       "      <td>GM12878</td>\n",
       "    </tr>\n",
       "    <tr>\n",
       "      <th>1</th>\n",
       "      <td>chrX</td>\n",
       "      <td>6400</td>\n",
       "      <td>12800</td>\n",
       "      <td>GM12878</td>\n",
       "    </tr>\n",
       "    <tr>\n",
       "      <th>2</th>\n",
       "      <td>chrX</td>\n",
       "      <td>12800</td>\n",
       "      <td>19200</td>\n",
       "      <td>GM12878</td>\n",
       "    </tr>\n",
       "    <tr>\n",
       "      <th>3</th>\n",
       "      <td>chrX</td>\n",
       "      <td>19200</td>\n",
       "      <td>25600</td>\n",
       "      <td>GM12878</td>\n",
       "    </tr>\n",
       "    <tr>\n",
       "      <th>4</th>\n",
       "      <td>chrX</td>\n",
       "      <td>25600</td>\n",
       "      <td>32000</td>\n",
       "      <td>GM12878</td>\n",
       "    </tr>\n",
       "    <tr>\n",
       "      <th>...</th>\n",
       "      <td>...</td>\n",
       "      <td>...</td>\n",
       "      <td>...</td>\n",
       "      <td>...</td>\n",
       "    </tr>\n",
       "    <tr>\n",
       "      <th>24256</th>\n",
       "      <td>chrX</td>\n",
       "      <td>155238400</td>\n",
       "      <td>155244800</td>\n",
       "      <td>GM12878</td>\n",
       "    </tr>\n",
       "    <tr>\n",
       "      <th>24257</th>\n",
       "      <td>chrX</td>\n",
       "      <td>155244800</td>\n",
       "      <td>155251200</td>\n",
       "      <td>GM12878</td>\n",
       "    </tr>\n",
       "    <tr>\n",
       "      <th>24258</th>\n",
       "      <td>chrX</td>\n",
       "      <td>155251200</td>\n",
       "      <td>155257600</td>\n",
       "      <td>GM12878</td>\n",
       "    </tr>\n",
       "    <tr>\n",
       "      <th>24259</th>\n",
       "      <td>chrX</td>\n",
       "      <td>155257600</td>\n",
       "      <td>155264000</td>\n",
       "      <td>GM12878</td>\n",
       "    </tr>\n",
       "    <tr>\n",
       "      <th>24260</th>\n",
       "      <td>chrX</td>\n",
       "      <td>155264000</td>\n",
       "      <td>155270400</td>\n",
       "      <td>GM12878</td>\n",
       "    </tr>\n",
       "  </tbody>\n",
       "</table>\n",
       "<p>24261 rows × 4 columns</p>\n",
       "</div>"
      ],
      "text/plain": [
       "        chr      start       stop celltype\n",
       "0      chrX          0       6400  GM12878\n",
       "1      chrX       6400      12800  GM12878\n",
       "2      chrX      12800      19200  GM12878\n",
       "3      chrX      19200      25600  GM12878\n",
       "4      chrX      25600      32000  GM12878\n",
       "...     ...        ...        ...      ...\n",
       "24256  chrX  155238400  155244800  GM12878\n",
       "24257  chrX  155244800  155251200  GM12878\n",
       "24258  chrX  155251200  155257600  GM12878\n",
       "24259  chrX  155257600  155264000  GM12878\n",
       "24260  chrX  155264000  155270400  GM12878\n",
       "\n",
       "[24261 rows x 4 columns]"
      ]
     },
     "execution_count": 20,
     "metadata": {},
     "output_type": "execute_result"
    }
   ],
   "source": [
    "celltype_mdta_df"
   ]
  },
  {
   "cell_type": "code",
   "execution_count": null,
   "metadata": {},
   "outputs": [],
   "source": []
  }
 ],
 "metadata": {
  "kernelspec": {
   "display_name": "Python 3",
   "language": "python",
   "name": "python3"
  },
  "language_info": {
   "codemirror_mode": {
    "name": "ipython",
    "version": 3
   },
   "file_extension": ".py",
   "mimetype": "text/x-python",
   "name": "python",
   "nbconvert_exporter": "python",
   "pygments_lexer": "ipython3",
   "version": "3.8.5"
  }
 },
 "nbformat": 4,
 "nbformat_minor": 4
}
